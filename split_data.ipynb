{
 "cells": [
  {
   "cell_type": "code",
   "execution_count": 1,
   "metadata": {
    "collapsed": true
   },
   "outputs": [],
   "source": [
    "#nltk.download()\n",
    "\n",
    "import os\n",
    "import numpy as np\n",
    "import io\n",
    "from sklearn.utils import shuffle\n",
    "import cv2\n",
    "import pandas as pd"
   ]
  },
  {
   "cell_type": "code",
   "execution_count": 2,
   "metadata": {
    "collapsed": true
   },
   "outputs": [],
   "source": [
    "rootdir = '/Users/paulagomezduran/Desktop/THINKSMARTER/Model/age-gender-estimation-master/data/UTKFace'"
   ]
  },
  {
   "cell_type": "code",
   "execution_count": 3,
   "metadata": {},
   "outputs": [],
   "source": [
    "images = []\n",
    "\n",
    "for image in os.listdir(rootdir):\n",
    "    if image.endswith('.jpg'):\n",
    "        images.append(cv2.imread(rootdir+'/'+image))\n",
    "        "
   ]
  },
  {
   "cell_type": "code",
   "execution_count": 4,
   "metadata": {},
   "outputs": [
    {
     "data": {
      "text/plain": [
       "(1333, 1002, 3)"
      ]
     },
     "execution_count": 4,
     "metadata": {},
     "output_type": "execute_result"
    }
   ],
   "source": [
    "images[0].shape"
   ]
  },
  {
   "cell_type": "code",
   "execution_count": 5,
   "metadata": {},
   "outputs": [],
   "source": [
    "imgs = np.asarray(images)\n",
    "names = []"
   ]
  },
  {
   "cell_type": "code",
   "execution_count": 6,
   "metadata": {},
   "outputs": [
    {
     "name": "stdout",
     "output_type": "stream",
     "text": [
      "['100_0_0_20170112213500903.jpg', '100_0_0_20170112215240346.jpg']\n"
     ]
    }
   ],
   "source": [
    "for directory, subdirs, all_files in os.walk(rootdir):\n",
    "    names = [ fname for fname in all_files if fname.endswith('.jpg')]\n",
    "    \n",
    "print names[:2]"
   ]
  },
  {
   "cell_type": "code",
   "execution_count": 7,
   "metadata": {},
   "outputs": [
    {
     "name": "stdout",
     "output_type": "stream",
     "text": [
      "24106\n",
      "24106\n"
     ]
    }
   ],
   "source": [
    "print len(imgs)\n",
    "\n",
    "print len(names)"
   ]
  },
  {
   "cell_type": "code",
   "execution_count": 8,
   "metadata": {},
   "outputs": [],
   "source": [
    "info_list = pd.Series(imgs, index=names)"
   ]
  },
  {
   "cell_type": "code",
   "execution_count": 9,
   "metadata": {},
   "outputs": [
    {
     "data": {
      "text/plain": [
       "100_0_0_20170112213500903.jpg    [[[152, 143, 139], [107, 98, 94], [64, 55, 51]...\n",
       "100_0_0_20170112215240346.jpg    [[[126, 117, 113], [126, 117, 113], [126, 117,...\n",
       "100_1_0_20170110183726390.jpg    [[[241, 234, 231], [244, 237, 234], [243, 236,...\n",
       "dtype: object"
      ]
     },
     "execution_count": 9,
     "metadata": {},
     "output_type": "execute_result"
    }
   ],
   "source": [
    "info_list[:3]"
   ]
  },
  {
   "cell_type": "code",
   "execution_count": 10,
   "metadata": {},
   "outputs": [],
   "source": [
    "info_shuffled_list = shuffle(info_list)\n",
    "train_data_len = int(0.7*len(info_list))\n",
    "training_set = info_shuffled_list[:train_data_len]\n",
    "test_set = info_shuffled_list[train_data_len:]"
   ]
  },
  {
   "cell_type": "code",
   "execution_count": 11,
   "metadata": {},
   "outputs": [
    {
     "name": "stdout",
     "output_type": "stream",
     "text": [
      "16874\n",
      "7232\n",
      "24106\n"
     ]
    }
   ],
   "source": [
    "print len(training_set)\n",
    "print len(test_set)\n",
    "\n",
    "print len(test_set) + len(training_set)\n",
    "\n"
   ]
  },
  {
   "cell_type": "code",
   "execution_count": 12,
   "metadata": {},
   "outputs": [
    {
     "data": {
      "text/plain": [
       "73_0_1_20170117195325010.jpg    [[[12, 12, 12], [12, 12, 12], [12, 12, 12], [1...\n",
       "54_0_0_20170111201425519.jpg    [[[255, 254, 253], [255, 254, 253], [255, 254,...\n",
       "28_0_3_20170119194503787.jpg    [[[240, 240, 204], [237, 231, 212], [236, 224,...\n",
       "dtype: object"
      ]
     },
     "execution_count": 12,
     "metadata": {},
     "output_type": "execute_result"
    }
   ],
   "source": [
    "info_shuffled_list[:3]"
   ]
  },
  {
   "cell_type": "code",
   "execution_count": 13,
   "metadata": {},
   "outputs": [],
   "source": [
    "split_dir = rootdir +'_split'\n",
    "\n",
    "if not os.path.exists(split_dir):\n",
    "    os.mkdir(split_dir)\n",
    "    \n",
    "if not os.path.exists(split_dir +'/training_set'):  \n",
    "    os.mkdir(split_dir +'/training_set')\n",
    "    \n",
    "if not os.path.exists(split_dir +'/test_set'):\n",
    "    os.mkdir(split_dir +'/test_set')"
   ]
  },
  {
   "cell_type": "code",
   "execution_count": null,
   "metadata": {
    "collapsed": true
   },
   "outputs": [],
   "source": []
  },
  {
   "cell_type": "code",
   "execution_count": 15,
   "metadata": {},
   "outputs": [],
   "source": [
    "for name, image in training_set.items():\n",
    "    \n",
    "    cv2.imwrite(split_dir +'/training_set/' + name, image)\n"
   ]
  },
  {
   "cell_type": "code",
   "execution_count": 16,
   "metadata": {
    "collapsed": true
   },
   "outputs": [],
   "source": [
    "for name, image in test_set.items():\n",
    "    \n",
    "    cv2.imwrite(split_dir +'/test_set/' + name, image)\n"
   ]
  },
  {
   "cell_type": "code",
   "execution_count": null,
   "metadata": {
    "collapsed": true
   },
   "outputs": [],
   "source": []
  }
 ],
 "metadata": {
  "kernelspec": {
   "display_name": "Python 2",
   "language": "python",
   "name": "python2"
  },
  "language_info": {
   "codemirror_mode": {
    "name": "ipython",
    "version": 2
   },
   "file_extension": ".py",
   "mimetype": "text/x-python",
   "name": "python",
   "nbconvert_exporter": "python",
   "pygments_lexer": "ipython2",
   "version": "2.7.13"
  }
 },
 "nbformat": 4,
 "nbformat_minor": 2
}

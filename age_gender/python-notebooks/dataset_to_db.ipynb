{
 "cells": [
  {
   "cell_type": "markdown",
   "metadata": {},
   "source": [
    "\n",
    "## UTKFace: \n",
    "\n",
    "\n",
    "USE: It creates a .mat database of the desired dataset.\n",
    "\n",
    "The labels of each face image is embedded in the file name, formated like [age]_[gender]_[race]_[date&time].jpg\n",
    "* **[age]** is an integer from 0 to 116, indicating the age \n",
    "* **[gender]** is either 0 (male) or 1 (female)  **BACKWARDS THAN IMDB-WIKI DATASET**\n",
    "* **[race]** is an integer from 0 to 4, denoting White, Black, Asian, Indian, and Others (like Hispanic, Latino, Middle Eastern). \n",
    "* **[date&time]** is in the format of yyyymmddHHMMSSFFF, showing the date and time an image was collected to UTKFace \n",
    "\n",
    "    \n",
    "\n",
    "\n",
    "    NOTE: db is either imdb for training data or wiki for test data."
   ]
  },
  {
   "cell_type": "code",
   "execution_count": 1,
   "metadata": {},
   "outputs": [],
   "source": [
    "import numpy as np\n",
    "import cv2\n",
    "import os\n",
    "import scipy.io\n",
    "import argparse\n",
    "from tqdm import tqdm"
   ]
  },
  {
   "cell_type": "code",
   "execution_count": 2,
   "metadata": {},
   "outputs": [],
   "source": [
    "dataset_path = \"/home/paula/THINKSMARTER_/Model/age-gender-estimation-master/Datasets/UTKFace_split/training_set\"\n",
    "\n",
    "output_path = \"/home/paula/THINKSMARTER_/Model/age-gender-estimation-master/data/training_set.mat\"\n",
    "img_size = 64\n",
    "min_score = 1.0\n",
    "db = 'imdb'  # imdb if its training or wiki if test data\n",
    "\n",
    "out_genders = []\n",
    "out_ages = []\n",
    "out_imgs = []\n",
    "out_races = []"
   ]
  },
  {
   "cell_type": "code",
   "execution_count": 3,
   "metadata": {},
   "outputs": [],
   "source": [
    "allfiles = os.listdir(dataset_path)\n",
    "files = [ fname for fname in allfiles if fname.endswith('.jpg')]"
   ]
  },
  {
   "cell_type": "code",
   "execution_count": 4,
   "metadata": {},
   "outputs": [
    {
     "name": "stderr",
     "output_type": "stream",
     "text": [
      "100%|██████████| 16874/16874 [00:58<00:00, 288.47it/s]\n"
     ]
    }
   ],
   "source": [
    "from IPython import embed\n",
    "#for name_file in tqdm(files):\n",
    "count = 0\n",
    "for name_file in tqdm(files):\n",
    "    \n",
    "    info = name_file.split('_')\n",
    "    out_ages.append(int(info[0]))\n",
    "    \n",
    "    # 0 SHOULD BE FEMALE AND 1 MALE (IN UTK FACE IS BACKWARDS SO):\n",
    "    if info[1] == '1':\n",
    "        out_genders.append(0)\n",
    "    else:\n",
    "        out_genders.append(1)\n",
    "        \n",
    "    # IF THE INFO HAS RACE ANNOTATED:\n",
    "    if len(info) == 4:\n",
    "        out_races.append(int(info[2]))\n",
    "    else:\n",
    "        out_races.append(None)\n",
    "\n",
    "    img = cv2.imread(dataset_path + \"/\" +str(name_file))\n",
    "    out_imgs.append(cv2.resize(img, (img_size, img_size)))\n",
    "    count = count +1"
   ]
  },
  {
   "cell_type": "code",
   "execution_count": 5,
   "metadata": {},
   "outputs": [
    {
     "name": "stdout",
     "output_type": "stream",
     "text": [
      "['2', '1', '2', '20161219211300054.jpg']\n"
     ]
    }
   ],
   "source": [
    "info = files[12431].split('_')\n",
    "\n",
    "print (info)\n",
    "\n",
    "\n",
    "if(count == 12428 or count == 12429 or count == 12430 or count == 12431):\n",
    "    embed()\n",
    "\n"
   ]
  },
  {
   "cell_type": "code",
   "execution_count": 6,
   "metadata": {},
   "outputs": [],
   "source": [
    "output = {\"image\": np.array(out_imgs), \"gender\": np.array(out_genders), \"age\": np.array(out_ages),\"race\": np.array(out_races, dtype=np.float) ,\"img_size\": img_size, \"db\": db, \"min_score\": min_score}"
   ]
  },
  {
   "cell_type": "code",
   "execution_count": 7,
   "metadata": {},
   "outputs": [],
   "source": [
    "scipy.io.savemat(output_path, output)"
   ]
  },
  {
   "cell_type": "code",
   "execution_count": null,
   "metadata": {},
   "outputs": [],
   "source": []
  },
  {
   "cell_type": "code",
   "execution_count": null,
   "metadata": {},
   "outputs": [],
   "source": []
  }
 ],
 "metadata": {
  "kernelspec": {
   "display_name": "Python 3",
   "language": "python",
   "name": "python3"
  },
  "language_info": {
   "codemirror_mode": {
    "name": "ipython",
    "version": 3
   },
   "file_extension": ".py",
   "mimetype": "text/x-python",
   "name": "python",
   "nbconvert_exporter": "python",
   "pygments_lexer": "ipython3",
   "version": "3.5.2"
  }
 },
 "nbformat": 4,
 "nbformat_minor": 2
}
